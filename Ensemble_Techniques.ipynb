{
  "cells": [
    {
      "cell_type": "markdown",
      "metadata": {
        "id": "view-in-github",
        "colab_type": "text"
      },
      "source": [
        "<a href=\"https://colab.research.google.com/github/minolinesith/FYP/blob/Ensemble-Model/Ensemble_Techniques.ipynb\" target=\"_parent\"><img src=\"https://colab.research.google.com/assets/colab-badge.svg\" alt=\"Open In Colab\"/></a>"
      ]
    },
    {
      "cell_type": "markdown",
      "metadata": {
        "id": "YVK45QuQU686"
      },
      "source": [
        "# Loading models\n"
      ]
    },
    {
      "cell_type": "code",
      "execution_count": 1,
      "metadata": {
        "colab": {
          "base_uri": "https://localhost:8080/"
        },
        "id": "8IpQN9cJWeGe",
        "outputId": "6309c9ae-b83b-480c-cd7a-3080fa806b16"
      },
      "outputs": [
        {
          "output_type": "stream",
          "name": "stdout",
          "text": [
            "Mounted at /content/drive\n"
          ]
        }
      ],
      "source": [
        "from google.colab import drive\n",
        "\n",
        "# Connecting to google drive\n",
        "drive.mount('/content/drive')"
      ]
    },
    {
      "cell_type": "code",
      "execution_count": 2,
      "metadata": {
        "colab": {
          "base_uri": "https://localhost:8080/"
        },
        "id": "xOO973FEVsQS",
        "outputId": "e87e4278-a7a7-4c9f-b05a-6037a6f67718"
      },
      "outputs": [
        {
          "output_type": "stream",
          "name": "stderr",
          "text": [
            "WARNING:absl:Skipping variable loading for optimizer 'Adam', because it has 1 variables whereas the saved optimizer has 9 variables. \n",
            "WARNING:absl:Skipping variable loading for optimizer 'Adam', because it has 1 variables whereas the saved optimizer has 9 variables. \n",
            "WARNING:absl:Skipping variable loading for optimizer 'Adam', because it has 1 variables whereas the saved optimizer has 9 variables. \n"
          ]
        }
      ],
      "source": [
        "import tensorflow as tf\n",
        "from tensorflow.keras.models import load_model\n",
        "\n",
        "VGG16_model = load_model('/content/drive/MyDrive/FYP/Ensemble Model/LifeVeda_VGG16.keras')\n",
        "ResNet50_model = load_model('/content/drive/MyDrive/FYP/Ensemble Model/LifeVeda_Resnet50.keras')\n",
        "EfficientNetB5_model = load_model('/content/drive/MyDrive/FYP/Ensemble Model/LifeVeda_EfficientNetB5.keras')"
      ]
    },
    {
      "cell_type": "markdown",
      "metadata": {
        "id": "6v_xCTuwXuon"
      },
      "source": [
        "# Loading Dataset"
      ]
    },
    {
      "cell_type": "code",
      "execution_count": 3,
      "metadata": {
        "id": "DgyCIw4QX1uF"
      },
      "outputs": [],
      "source": [
        "test_path = '/content/drive/MyDrive/Dataset-FYP/Dataset/test'"
      ]
    },
    {
      "cell_type": "code",
      "execution_count": 4,
      "metadata": {
        "colab": {
          "base_uri": "https://localhost:8080/"
        },
        "id": "UrzyT2B6Xzss",
        "outputId": "14ab8da0-687b-4633-b177-a28f40c6388c"
      },
      "outputs": [
        {
          "output_type": "stream",
          "name": "stdout",
          "text": [
            "Found 160 files belonging to 8 classes.\n"
          ]
        }
      ],
      "source": [
        "img_width = 224\n",
        "img_height = 224\n",
        "\n",
        "test_data = tf.keras.utils.image_dataset_from_directory(\n",
        "    test_path,\n",
        "    shuffle = False,\n",
        "    image_size = (img_width, img_height),\n",
        "    batch_size = 10,\n",
        "    validation_split = False\n",
        "\n",
        ")"
      ]
    },
    {
      "cell_type": "markdown",
      "metadata": {
        "id": "wZkWOoarViqS"
      },
      "source": [
        "## Stacking\n"
      ]
    },
    {
      "cell_type": "code",
      "source": [
        "import numpy as np"
      ],
      "metadata": {
        "id": "wDvedWv-AEXq"
      },
      "execution_count": 7,
      "outputs": []
    },
    {
      "cell_type": "code",
      "source": [
        "X = []\n",
        "Y = []\n",
        "for images, labels in test_data:\n",
        "    for image in images:\n",
        "        X.append(image)\n",
        "    for label in labels:\n",
        "        Y.append(label)"
      ],
      "metadata": {
        "id": "qwjbx_hiDxY4"
      },
      "execution_count": 8,
      "outputs": []
    },
    {
      "cell_type": "code",
      "source": [
        "y_train = np.array(Y)"
      ],
      "metadata": {
        "id": "qKhORYXzgYD6"
      },
      "execution_count": 9,
      "outputs": []
    },
    {
      "cell_type": "code",
      "source": [
        "vgg16_preds = VGG16_model.predict(test_data)"
      ],
      "metadata": {
        "colab": {
          "base_uri": "https://localhost:8080/"
        },
        "id": "An0gefglI4Aj",
        "outputId": "9750612c-ff00-41b6-e8ed-44903f0373bc"
      },
      "execution_count": 10,
      "outputs": [
        {
          "output_type": "stream",
          "name": "stdout",
          "text": [
            "16/16 [==============================] - 15s 611ms/step\n"
          ]
        }
      ]
    },
    {
      "cell_type": "code",
      "source": [
        "resnet50_preds = ResNet50_model.predict(test_data)"
      ],
      "metadata": {
        "colab": {
          "base_uri": "https://localhost:8080/"
        },
        "id": "oiUN2ZspKq6Z",
        "outputId": "3f2621c9-9dca-4b0e-c91a-c05b981093d5"
      },
      "execution_count": 11,
      "outputs": [
        {
          "output_type": "stream",
          "name": "stdout",
          "text": [
            "16/16 [==============================] - 17s 903ms/step\n"
          ]
        }
      ]
    },
    {
      "cell_type": "code",
      "source": [
        "efficientNetB5_preds = EfficientNetB5_model.predict(test_data)"
      ],
      "metadata": {
        "colab": {
          "base_uri": "https://localhost:8080/"
        },
        "id": "0drlMgtNLT35",
        "outputId": "e73bf34b-57fa-4a55-cf6c-3228a77a8e90"
      },
      "execution_count": 12,
      "outputs": [
        {
          "output_type": "stream",
          "name": "stdout",
          "text": [
            "16/16 [==============================] - 16s 467ms/step\n"
          ]
        }
      ]
    },
    {
      "cell_type": "code",
      "source": [
        "stacked_data_x = np.concatenate([vgg16_preds, resnet50_preds, efficientNetB5_preds])\n"
      ],
      "metadata": {
        "id": "9CIEYfoSKs0S"
      },
      "execution_count": 13,
      "outputs": []
    },
    {
      "cell_type": "code",
      "source": [
        "stacked_data_y = np.concatenate([y_train,y_train,y_train])"
      ],
      "metadata": {
        "id": "erzTkpMujyWY"
      },
      "execution_count": 14,
      "outputs": []
    },
    {
      "cell_type": "code",
      "source": [
        "from sklearn.model_selection import train_test_split\n",
        "x_train, x_test, y_train, y_test = train_test_split(stacked_data_x, stacked_data_y, test_size=0.2)"
      ],
      "metadata": {
        "id": "vYdid7kkjIy6"
      },
      "execution_count": 15,
      "outputs": []
    },
    {
      "cell_type": "code",
      "source": [
        "from sklearn.linear_model import LogisticRegression\n",
        "LR = LogisticRegression()\n",
        "LR.fit(x_train, y_train)"
      ],
      "metadata": {
        "colab": {
          "base_uri": "https://localhost:8080/",
          "height": 74
        },
        "id": "k9I1EkCJsmBY",
        "outputId": "919d8713-f8f6-4574-c8cf-1d3ba73b7e2f"
      },
      "execution_count": 16,
      "outputs": [
        {
          "output_type": "execute_result",
          "data": {
            "text/plain": [
              "LogisticRegression()"
            ],
            "text/html": [
              "<style>#sk-container-id-1 {color: black;background-color: white;}#sk-container-id-1 pre{padding: 0;}#sk-container-id-1 div.sk-toggleable {background-color: white;}#sk-container-id-1 label.sk-toggleable__label {cursor: pointer;display: block;width: 100%;margin-bottom: 0;padding: 0.3em;box-sizing: border-box;text-align: center;}#sk-container-id-1 label.sk-toggleable__label-arrow:before {content: \"▸\";float: left;margin-right: 0.25em;color: #696969;}#sk-container-id-1 label.sk-toggleable__label-arrow:hover:before {color: black;}#sk-container-id-1 div.sk-estimator:hover label.sk-toggleable__label-arrow:before {color: black;}#sk-container-id-1 div.sk-toggleable__content {max-height: 0;max-width: 0;overflow: hidden;text-align: left;background-color: #f0f8ff;}#sk-container-id-1 div.sk-toggleable__content pre {margin: 0.2em;color: black;border-radius: 0.25em;background-color: #f0f8ff;}#sk-container-id-1 input.sk-toggleable__control:checked~div.sk-toggleable__content {max-height: 200px;max-width: 100%;overflow: auto;}#sk-container-id-1 input.sk-toggleable__control:checked~label.sk-toggleable__label-arrow:before {content: \"▾\";}#sk-container-id-1 div.sk-estimator input.sk-toggleable__control:checked~label.sk-toggleable__label {background-color: #d4ebff;}#sk-container-id-1 div.sk-label input.sk-toggleable__control:checked~label.sk-toggleable__label {background-color: #d4ebff;}#sk-container-id-1 input.sk-hidden--visually {border: 0;clip: rect(1px 1px 1px 1px);clip: rect(1px, 1px, 1px, 1px);height: 1px;margin: -1px;overflow: hidden;padding: 0;position: absolute;width: 1px;}#sk-container-id-1 div.sk-estimator {font-family: monospace;background-color: #f0f8ff;border: 1px dotted black;border-radius: 0.25em;box-sizing: border-box;margin-bottom: 0.5em;}#sk-container-id-1 div.sk-estimator:hover {background-color: #d4ebff;}#sk-container-id-1 div.sk-parallel-item::after {content: \"\";width: 100%;border-bottom: 1px solid gray;flex-grow: 1;}#sk-container-id-1 div.sk-label:hover label.sk-toggleable__label {background-color: #d4ebff;}#sk-container-id-1 div.sk-serial::before {content: \"\";position: absolute;border-left: 1px solid gray;box-sizing: border-box;top: 0;bottom: 0;left: 50%;z-index: 0;}#sk-container-id-1 div.sk-serial {display: flex;flex-direction: column;align-items: center;background-color: white;padding-right: 0.2em;padding-left: 0.2em;position: relative;}#sk-container-id-1 div.sk-item {position: relative;z-index: 1;}#sk-container-id-1 div.sk-parallel {display: flex;align-items: stretch;justify-content: center;background-color: white;position: relative;}#sk-container-id-1 div.sk-item::before, #sk-container-id-1 div.sk-parallel-item::before {content: \"\";position: absolute;border-left: 1px solid gray;box-sizing: border-box;top: 0;bottom: 0;left: 50%;z-index: -1;}#sk-container-id-1 div.sk-parallel-item {display: flex;flex-direction: column;z-index: 1;position: relative;background-color: white;}#sk-container-id-1 div.sk-parallel-item:first-child::after {align-self: flex-end;width: 50%;}#sk-container-id-1 div.sk-parallel-item:last-child::after {align-self: flex-start;width: 50%;}#sk-container-id-1 div.sk-parallel-item:only-child::after {width: 0;}#sk-container-id-1 div.sk-dashed-wrapped {border: 1px dashed gray;margin: 0 0.4em 0.5em 0.4em;box-sizing: border-box;padding-bottom: 0.4em;background-color: white;}#sk-container-id-1 div.sk-label label {font-family: monospace;font-weight: bold;display: inline-block;line-height: 1.2em;}#sk-container-id-1 div.sk-label-container {text-align: center;}#sk-container-id-1 div.sk-container {/* jupyter's `normalize.less` sets `[hidden] { display: none; }` but bootstrap.min.css set `[hidden] { display: none !important; }` so we also need the `!important` here to be able to override the default hidden behavior on the sphinx rendered scikit-learn.org. See: https://github.com/scikit-learn/scikit-learn/issues/21755 */display: inline-block !important;position: relative;}#sk-container-id-1 div.sk-text-repr-fallback {display: none;}</style><div id=\"sk-container-id-1\" class=\"sk-top-container\"><div class=\"sk-text-repr-fallback\"><pre>LogisticRegression()</pre><b>In a Jupyter environment, please rerun this cell to show the HTML representation or trust the notebook. <br />On GitHub, the HTML representation is unable to render, please try loading this page with nbviewer.org.</b></div><div class=\"sk-container\" hidden><div class=\"sk-item\"><div class=\"sk-estimator sk-toggleable\"><input class=\"sk-toggleable__control sk-hidden--visually\" id=\"sk-estimator-id-1\" type=\"checkbox\" checked><label for=\"sk-estimator-id-1\" class=\"sk-toggleable__label sk-toggleable__label-arrow\">LogisticRegression</label><div class=\"sk-toggleable__content\"><pre>LogisticRegression()</pre></div></div></div></div></div>"
            ]
          },
          "metadata": {},
          "execution_count": 16
        }
      ]
    },
    {
      "cell_type": "code",
      "source": [
        "score = LR.score(x_test, y_test)\n",
        "print(round(score*100,2),'%')"
      ],
      "metadata": {
        "colab": {
          "base_uri": "https://localhost:8080/"
        },
        "id": "_OvgpVrUs0tw",
        "outputId": "7a47a6b6-8ab9-4d3a-8914-f242cf2f3905"
      },
      "execution_count": 17,
      "outputs": [
        {
          "output_type": "stream",
          "name": "stdout",
          "text": [
            "90.62 %\n"
          ]
        }
      ]
    },
    {
      "cell_type": "code",
      "source": [
        "predictions = LR.predict(x_test)"
      ],
      "metadata": {
        "id": "GHA0eDAjs4tL"
      },
      "execution_count": 18,
      "outputs": []
    },
    {
      "cell_type": "code",
      "source": [
        "import matplotlib.pyplot as plt\n",
        "import seaborn as sns\n",
        "from sklearn import metrics"
      ],
      "metadata": {
        "id": "AbQp9jmptwaA"
      },
      "execution_count": 19,
      "outputs": []
    },
    {
      "cell_type": "code",
      "source": [
        "cm = metrics.confusion_matrix(y_test, predictions)\n",
        "plt.figure(figsize=(9,9))\n",
        "sns.heatmap(cm, annot=True, fmt=\".3f\", linewidths=.5, cmap = 'Blues_r');\n",
        "plt.ylabel('Actual label');\n",
        "plt.xlabel('Predicted label');\n",
        "all_sample_title = 'Accuracy Score: {0}'.format(round(score*100,2))\n",
        "plt.title(all_sample_title, size = 10)"
      ],
      "metadata": {
        "colab": {
          "base_uri": "https://localhost:8080/",
          "height": 809
        },
        "id": "8r3TvN6SuNd8",
        "outputId": "cdd8ab16-9729-496c-9f3c-ea2ade641c54"
      },
      "execution_count": 20,
      "outputs": [
        {
          "output_type": "execute_result",
          "data": {
            "text/plain": [
              "Text(0.5, 1.0, 'Accuracy Score: 90.62')"
            ]
          },
          "metadata": {},
          "execution_count": 20
        },
        {
          "output_type": "display_data",
          "data": {
            "text/plain": [
              "<Figure size 900x900 with 2 Axes>"
            ],
            "image/png": "[encoded data removed]"
          },
          "metadata": {}
        }
      ]
    },
    {
      "cell_type": "markdown",
      "source": [
        "# Weighted Average"
      ],
      "metadata": {
        "id": "aNNu8BCWkpJJ"
      }
    },
    {
      "cell_type": "code",
      "source": [
        "import numpy as np\n",
        "import pandas as pd\n",
        "import matplotlib.pyplot as plt\n",
        "import tensorflow as tf\n",
        "from tensorflow import keras\n",
        "from tensorflow.keras import layers\n",
        "from tensorflow.keras.models import Sequential"
      ],
      "metadata": {
        "id": "Q_jqrRPAvvNY"
      },
      "execution_count": 21,
      "outputs": []
    },
    {
      "cell_type": "code",
      "source": [
        "train_path = '/content/drive/MyDrive/Dataset-FYP/Dataset/train'\n",
        "valid_path = '/content/drive/MyDrive/Dataset-FYP/Dataset/validation'\n",
        "test_path = '/content/drive/MyDrive/Dataset-FYP/Dataset/test'"
      ],
      "metadata": {
        "id": "EBJKHnv3wKOp"
      },
      "execution_count": 22,
      "outputs": []
    },
    {
      "cell_type": "code",
      "source": [
        "train_data = tf.keras.utils.image_dataset_from_directory(\n",
        "    train_path,\n",
        "    shuffle = True,\n",
        "    image_size = (img_width, img_height),\n",
        "    batch_size = 10,\n",
        "    validation_split = False,\n",
        ")\n",
        "\n",
        "valid_data = tf.keras.utils.image_dataset_from_directory(\n",
        "    valid_path,\n",
        "    shuffle = False,\n",
        "    image_size = (img_width, img_height),\n",
        "    batch_size = 10,\n",
        "    validation_split = False\n",
        "\n",
        ")\n",
        "\n",
        "test_data = tf.keras.utils.image_dataset_from_directory(\n",
        "    test_path,\n",
        "    shuffle = False,\n",
        "    image_size = (img_width, img_height),\n",
        "    batch_size = 10,\n",
        "    validation_split = False\n",
        "\n",
        ")"
      ],
      "metadata": {
        "colab": {
          "base_uri": "https://localhost:8080/"
        },
        "id": "8FooCUwSwLeP",
        "outputId": "4cbd29a2-9797-4dcd-ee19-3b6cb9a90d5e"
      },
      "execution_count": 23,
      "outputs": [
        {
          "output_type": "stream",
          "name": "stdout",
          "text": [
            "Found 1601 files belonging to 8 classes.\n",
            "Found 480 files belonging to 8 classes.\n",
            "Found 160 files belonging to 8 classes.\n"
          ]
        }
      ]
    },
    {
      "cell_type": "code",
      "source": [
        "from tensorflow.keras.layers import Average\n",
        "\n",
        "models = [VGG16_model, ResNet50_model, EfficientNetB5_model]\n",
        "\n",
        "for model in models:\n",
        "  for layer in model.layers:\n",
        "      layer.trainable = False"
      ],
      "metadata": {
        "id": "dCmWP_wNvs8_"
      },
      "execution_count": 24,
      "outputs": []
    },
    {
      "cell_type": "code",
      "source": [
        "def weighted_average(w1,w2,w3,inputs):\n",
        "    return w1 * inputs[0] + w2 * inputs[1] + w3 * inputs[2]"
      ],
      "metadata": {
        "id": "J9w_-6G2NWrD"
      },
      "execution_count": 25,
      "outputs": []
    },
    {
      "cell_type": "code",
      "source": [
        "model_input = keras.Input(shape=(img_width,img_height,3))\n",
        "models_output=[model(model_input) for model in models]\n",
        "weighted_average_output=weighted_average(0.1,0.3,0.6,models_output)\n",
        "ensemble_model_weighted_avg=keras.Model(inputs=model_input,outputs=weighted_average_output)\n"
      ],
      "metadata": {
        "id": "3FWow75ONlL6"
      },
      "execution_count": 26,
      "outputs": []
    },
    {
      "cell_type": "code",
      "source": [
        "callback = tf.keras.callbacks.EarlyStopping(monitor='val_loss', patience=3, restore_best_weights=True )"
      ],
      "metadata": {
        "id": "nvSB7XhD447e"
      },
      "execution_count": 27,
      "outputs": []
    },
    {
      "cell_type": "code",
      "source": [
        "ensemble_model_weighted_avg.compile(optimizer=tf.keras.optimizers.Adam(learning_rate=0.001), loss=tf.keras.losses.SparseCategoricalCrossentropy(), metrics=['accuracy'])"
      ],
      "metadata": {
        "id": "J8HG4xKmv6xV"
      },
      "execution_count": 28,
      "outputs": []
    },
    {
      "cell_type": "code",
      "source": [
        "epochs = 10\n",
        "history = ensemble_model_weighted_avg.fit(train_data, validation_data = valid_data, epochs = epochs, callbacks=[callback])"
      ],
      "metadata": {
        "colab": {
          "base_uri": "https://localhost:8080/"
        },
        "id": "6HWZd5T5v8lo",
        "outputId": "656773de-08ee-450e-f56b-42a9ad57f6c9"
      },
      "execution_count": 29,
      "outputs": [
        {
          "output_type": "stream",
          "name": "stdout",
          "text": [
            "Epoch 1/10\n",
            "161/161 [==============================] - 548s 3s/step - loss: 0.0167 - accuracy: 0.9875 - val_loss: 1.1700e-06 - val_accuracy: 1.0000\n",
            "Epoch 2/10\n",
            "161/161 [==============================] - 112s 672ms/step - loss: 0.0145 - accuracy: 0.9888 - val_loss: 1.1700e-06 - val_accuracy: 1.0000\n",
            "Epoch 3/10\n",
            "161/161 [==============================] - 109s 652ms/step - loss: 0.0134 - accuracy: 0.9888 - val_loss: 1.1700e-06 - val_accuracy: 1.0000\n",
            "Epoch 4/10\n",
            "161/161 [==============================] - 109s 650ms/step - loss: 0.0100 - accuracy: 0.9925 - val_loss: 1.1700e-06 - val_accuracy: 1.0000\n"
          ]
        }
      ]
    },
    {
      "cell_type": "code",
      "source": [
        "ensemble_test_loss_wa, ensemble_test_accuracy_wa = ensemble_model_weighted_avg.evaluate(test_data)\n",
        "\n",
        "print(f'Test Accuracy: {ensemble_test_accuracy_wa * 100:.2f}%')"
      ],
      "metadata": {
        "colab": {
          "base_uri": "https://localhost:8080/"
        },
        "id": "pOG8MIIov_PZ",
        "outputId": "a30ba5e0-a5e8-4989-d107-df0af333a12f"
      },
      "execution_count": 30,
      "outputs": [
        {
          "output_type": "stream",
          "name": "stdout",
          "text": [
            "16/16 [==============================] - 9s 503ms/step - loss: 0.1068 - accuracy: 0.9688\n",
            "Test Accuracy: 96.88%\n"
          ]
        }
      ]
    },
    {
      "cell_type": "markdown",
      "source": [
        "# Average"
      ],
      "metadata": {
        "id": "XqHYjNHZnMI4"
      }
    },
    {
      "cell_type": "code",
      "source": [
        "import numpy as np\n",
        "import pandas as pd\n",
        "import matplotlib.pyplot as plt\n",
        "import tensorflow as tf\n",
        "from tensorflow import keras\n",
        "from tensorflow.keras import layers\n",
        "from tensorflow.keras.models import Sequential"
      ],
      "metadata": {
        "id": "vKJXu-Fsnlag"
      },
      "execution_count": 31,
      "outputs": []
    },
    {
      "cell_type": "code",
      "source": [
        "from tensorflow.keras.layers import Average\n",
        "\n",
        "models = [VGG16_model, ResNet50_model, EfficientNetB5_model]\n",
        "\n",
        "for model in models:\n",
        "  for layer in model.layers:\n",
        "      layer.trainable = False"
      ],
      "metadata": {
        "id": "MIqBDLC1nPJA"
      },
      "execution_count": 32,
      "outputs": []
    },
    {
      "cell_type": "code",
      "source": [
        "model_input = keras.Input(shape=(img_width,img_height,3))\n",
        "models_output=[model(model_input) for model in models]\n",
        "average_output=layers.Average()(models_output)\n",
        "ensemble_model_average=keras.Model(inputs=model_input,outputs=average_output)\n"
      ],
      "metadata": {
        "id": "9MheJbsAnNzW"
      },
      "execution_count": 33,
      "outputs": []
    },
    {
      "cell_type": "code",
      "source": [
        "callback = tf.keras.callbacks.EarlyStopping(monitor='val_loss', patience=3, restore_best_weights=True )"
      ],
      "metadata": {
        "id": "tgv1bMH25EfH"
      },
      "execution_count": 34,
      "outputs": []
    },
    {
      "cell_type": "code",
      "source": [
        "ensemble_model_average.compile(optimizer=tf.keras.optimizers.Adam(learning_rate=0.001), loss=tf.keras.losses.SparseCategoricalCrossentropy(), metrics=['accuracy'])"
      ],
      "metadata": {
        "id": "_PW_v2kvuf2x"
      },
      "execution_count": 35,
      "outputs": []
    },
    {
      "cell_type": "code",
      "source": [
        "epochs = 10\n",
        "history = ensemble_model_average.fit(train_data, validation_data = valid_data, epochs = epochs, callbacks=[callback])"
      ],
      "metadata": {
        "id": "1oQKKixJvL3q",
        "colab": {
          "base_uri": "https://localhost:8080/"
        },
        "outputId": "32c86438-ea54-46fc-c0ca-54db91aebcd8"
      },
      "execution_count": 36,
      "outputs": [
        {
          "output_type": "stream",
          "name": "stdout",
          "text": [
            "Epoch 1/10\n",
            "161/161 [==============================] - 129s 657ms/step - loss: 0.0130 - accuracy: 0.9994 - val_loss: 1.3535e-06 - val_accuracy: 1.0000\n",
            "Epoch 2/10\n",
            "161/161 [==============================] - 107s 640ms/step - loss: 0.0096 - accuracy: 1.0000 - val_loss: 1.3535e-06 - val_accuracy: 1.0000\n",
            "Epoch 3/10\n",
            "161/161 [==============================] - 106s 634ms/step - loss: 0.0104 - accuracy: 1.0000 - val_loss: 1.3535e-06 - val_accuracy: 1.0000\n",
            "Epoch 4/10\n",
            "161/161 [==============================] - 107s 643ms/step - loss: 0.0100 - accuracy: 0.9994 - val_loss: 1.3535e-06 - val_accuracy: 1.0000\n"
          ]
        }
      ]
    },
    {
      "cell_type": "code",
      "source": [
        "ensemble_avg_test_loss, ensemble_avg_test_accuracy = ensemble_model_average.evaluate(test_data)\n",
        "\n",
        "print(f'Test Accuracy: {ensemble_avg_test_accuracy * 100:.2f}%')"
      ],
      "metadata": {
        "id": "skGqKvelvLeR",
        "colab": {
          "base_uri": "https://localhost:8080/"
        },
        "outputId": "3505bd7e-cce3-4955-f49f-76fa416f7519"
      },
      "execution_count": 37,
      "outputs": [
        {
          "output_type": "stream",
          "name": "stdout",
          "text": [
            "16/16 [==============================] - 9s 536ms/step - loss: 0.1555 - accuracy: 0.9625\n",
            "Test Accuracy: 96.25%\n"
          ]
        }
      ]
    }
  ],
  "metadata": {
    "accelerator": "GPU",
    "colab": {
      "gpuType": "T4",
      "provenance": [],
      "authorship_tag": "ABX9TyNIcLd1ddVDtybXyWiLKgsA",
      "include_colab_link": true
    },
    "kernelspec": {
      "display_name": "Python 3",
      "name": "python3"
    },
    "language_info": {
      "name": "python"
    }
  },
  "nbformat": 4,
  "nbformat_minor": 0
}